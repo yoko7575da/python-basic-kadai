{
  "nbformat": 4,
  "nbformat_minor": 0,
  "metadata": {
    "colab": {
      "provenance": []
    },
    "kernelspec": {
      "name": "python3",
      "display_name": "Python 3"
    },
    "language_info": {
      "name": "python"
    }
  },
  "cells": [
    {
      "cell_type": "code",
      "execution_count": 4,
      "metadata": {
        "colab": {
          "base_uri": "https://localhost:8080/"
        },
        "id": "MdA1NAI9ww8W",
        "outputId": "812d7f07-3a94-4571-c342-bc8ccad676d2"
      },
      "outputs": [
        {
          "output_type": "stream",
          "name": "stdout",
          "text": [
            "75.0㎠\n"
          ]
        }
      ],
      "source": [
        "# 変数に値を代入\n",
        "jyouhen = 10\n",
        "kahen = 20\n",
        "takasa = 5\n",
        "\n",
        "# 台形の面積を計算\n",
        "print(str((jyouhen + kahen) * takasa /2) + \"㎠\")"
      ]
    }
  ]
}