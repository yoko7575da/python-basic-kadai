{
  "nbformat": 4,
  "nbformat_minor": 0,
  "metadata": {
    "colab": {
      "provenance": []
    },
    "kernelspec": {
      "name": "python3",
      "display_name": "Python 3"
    },
    "language_info": {
      "name": "python"
    }
  },
  "cells": [
    {
      "cell_type": "code",
      "execution_count": 14,
      "metadata": {
        "colab": {
          "base_uri": "https://localhost:8080/"
        },
        "id": "tbA_FO5XtpmZ",
        "outputId": "5fe031d3-63c6-4d3a-e910-788e0cc92036"
      },
      "outputs": [
        {
          "output_type": "stream",
          "name": "stdout",
          "text": [
            "佐藤さんの年齢は、25です。\n",
            "鈴木さんの年齢は、19です。\n"
          ]
        }
      ],
      "source": [
        "class Human:\n",
        "    # コンストラクタを定義する\n",
        "    def __init__(self,name, age):\n",
        "        self.name = name\n",
        "        self.age = age\n",
        "\n",
        "    # メソッドを定義する\n",
        "    def printinfo(self):\n",
        "        print(f\"{self.name}さんの年齢は、{self.age}です。\")\n",
        "\n",
        "person1 = Human(\"佐藤\",25)\n",
        "person1.printinfo()\n",
        "\n",
        "person2 = Human(\"鈴木\", 19)\n",
        "person2.printinfo()"
      ]
    }
  ]
}