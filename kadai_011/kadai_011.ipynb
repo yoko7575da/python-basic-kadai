{
  "nbformat": 4,
  "nbformat_minor": 0,
  "metadata": {
    "colab": {
      "provenance": []
    },
    "kernelspec": {
      "name": "python3",
      "display_name": "Python 3"
    },
    "language_info": {
      "name": "python"
    }
  },
  "cells": [
    {
      "cell_type": "code",
      "execution_count": 6,
      "metadata": {
        "colab": {
          "base_uri": "https://localhost:8080/"
        },
        "id": "BLWGtz72J_2u",
        "outputId": "dc8eabeb-225b-4231-bd37-edbc22ee94fb"
      },
      "outputs": [
        {
          "output_type": "stream",
          "name": "stdout",
          "text": [
            "水\n",
            "金\n",
            "地\n",
            "火\n",
            "木\n",
            "土\n",
            "天\n",
            "海\n",
            "冥\n",
            "水\n",
            "金\n",
            "地\n",
            "火\n",
            "木\n",
            "土\n",
            "天\n",
            "海\n",
            "冥\n"
          ]
        }
      ],
      "source": [
        "array = [\"水\", \"金\", \"地\", \"火\", \"木\", \"土\", \"天\", \"海\", \"冥\"]\n",
        "\n",
        "# カウンタ変数を用意する\n",
        "i = 1\n",
        "\n",
        "# 変数iの値が3未満である間、繰り返し処理を行う\n",
        "while i < 3:\n",
        "\n",
        "    # 配列arrayの要素を1つずつ順番に出力する\n",
        "    for taiyokei in array:\n",
        "        print(taiyokei)\n",
        "\n",
        "    # カウンタ変数の値を1増やす\n",
        "    i = i + 1"
      ]
    }
  ]
}