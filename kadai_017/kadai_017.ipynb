{
  "nbformat": 4,
  "nbformat_minor": 0,
  "metadata": {
    "colab": {
      "provenance": []
    },
    "kernelspec": {
      "name": "python3",
      "display_name": "Python 3"
    },
    "language_info": {
      "name": "python"
    }
  },
  "cells": [
    {
      "cell_type": "code",
      "execution_count": 24,
      "metadata": {
        "colab": {
          "base_uri": "https://localhost:8080/"
        },
        "id": "vlA3zhs6jZ1i",
        "outputId": "11ccc646-02c4-466c-b5cf-daf47c6745e6"
      },
      "outputs": [
        {
          "output_type": "stream",
          "name": "stdout",
          "text": [
            "佐藤さんは、「大人です」\n",
            "鈴木さんは、「大人でない」\n",
            "加藤さんは、「大人です」\n",
            "田中さんは、「大人です」\n",
            "木村さんは、「大人でない」\n"
          ]
        }
      ],
      "source": [
        "class Human:\n",
        "    # コンストラクタを定義する\n",
        "    def __init__(self,name, age):\n",
        "        self.name = name\n",
        "        self.age = age\n",
        "\n",
        "    # メソッドを定義する\n",
        "    def check_adult(self):\n",
        "\n",
        "        if self.age >= 20:\n",
        "            print(f\"{self.name}さんは、「大人です」\")\n",
        "        else:\n",
        "            print(f\"{self.name}さんは、「大人でない」\")\n",
        "\n",
        "# インスタンスを生成\n",
        "person1 = Human(\"佐藤\", 25)\n",
        "person2 = Human(\"鈴木\", 19)\n",
        "person3 = Human(\"加藤\", 28)\n",
        "person4 = Human(\"田中\", 20)\n",
        "person5 = Human(\"木村\", 16)\n",
        "\n",
        "# 生成したインスタンスをリストに追加\n",
        "persons = [person1, person2, person3, person4, person5]\n",
        "\n",
        "# リストの要素を1つずつpersonに代入し、check_adultメソッドを呼び出す\n",
        "for person in persons:\n",
        "  person.check_adult()"
      ]
    }
  ]
}