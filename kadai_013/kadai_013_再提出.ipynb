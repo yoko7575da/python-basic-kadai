{
  "nbformat": 4,
  "nbformat_minor": 0,
  "metadata": {
    "colab": {
      "provenance": []
    },
    "kernelspec": {
      "name": "python3",
      "display_name": "Python 3"
    },
    "language_info": {
      "name": "python"
    }
  },
  "cells": [
    {
      "cell_type": "code",
      "source": [
        "# 与えられた引数priceと引数taxより、消費税を計算する関数を定義する\n",
        "def calculate_tax(price,tax):\n",
        "    # 引数price（商品金額）に、引数tax（消費税）を加えた値を計算\n",
        "    return price + price * (tax/100)\n",
        "\n",
        "# 関数を呼び出し、引数として商品金額と消費税（％）を渡す\n",
        "calculate_tax(110, 10)"
      ],
      "metadata": {
        "colab": {
          "base_uri": "https://localhost:8080/"
        },
        "id": "DJMNH1SXnxXG",
        "outputId": "f3936732-12bc-4b58-b8b3-b9f48099b137"
      },
      "execution_count": 12,
      "outputs": [
        {
          "output_type": "execute_result",
          "data": {
            "text/plain": [
              "121.0"
            ]
          },
          "metadata": {},
          "execution_count": 12
        }
      ]
    }
  ]
}