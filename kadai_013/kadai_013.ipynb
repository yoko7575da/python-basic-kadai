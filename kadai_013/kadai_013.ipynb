{
  "nbformat": 4,
  "nbformat_minor": 0,
  "metadata": {
    "colab": {
      "provenance": []
    },
    "kernelspec": {
      "name": "python3",
      "display_name": "Python 3"
    },
    "language_info": {
      "name": "python"
    }
  },
  "cells": [
    {
      "cell_type": "code",
      "execution_count": null,
      "metadata": {
        "colab": {
          "base_uri": "https://localhost:8080/"
        },
        "id": "AkZtfNDJUrN4",
        "outputId": "8b149684-8801-421a-8931-d74511fec25d"
      },
      "outputs": [
        {
          "output_type": "stream",
          "name": "stdout",
          "text": [
            "121.0円\n"
          ]
        }
      ],
      "source": [
        "# 与えられた引数priceと引数taxより、消費税を計算する関数を定義する\n",
        "def calculate_tax(price,tax):\n",
        "    # 引数price（商品金額）に、引数tax（消費税）を加えた値を計算し、変数totalに代入する\n",
        "    total = price + price * (tax/100)\n",
        "    print(f\"{total}円\")\n",
        "\n",
        "# 関数を呼び出し、引数として商品金額と消費税（％）を渡す\n",
        "calculate_tax(110, 10)"
      ]
    }
  ]
}