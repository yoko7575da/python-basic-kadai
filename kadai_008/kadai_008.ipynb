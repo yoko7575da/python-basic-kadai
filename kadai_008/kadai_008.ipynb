{
  "nbformat": 4,
  "nbformat_minor": 0,
  "metadata": {
    "colab": {
      "provenance": []
    },
    "kernelspec": {
      "name": "python3",
      "display_name": "Python 3"
    },
    "language_info": {
      "name": "python"
    }
  },
  "cells": [
    {
      "cell_type": "code",
      "execution_count": 104,
      "metadata": {
        "colab": {
          "base_uri": "https://localhost:8080/"
        },
        "id": "lULxfvbl7-Q8",
        "outputId": "0a3a61bc-6dc8-4f26-a6a5-4582cd2092c5"
      },
      "outputs": [
        {
          "output_type": "stream",
          "name": "stdout",
          "text": [
            "17\n"
          ]
        }
      ],
      "source": [
        "# ランダムな整数を利用するために、randomモジュールをインポート\n",
        "import random\n",
        "\n",
        "# 変数varに0～30までのランダムな整数を代入する\n",
        "var = random.randint(0,30)\n",
        "\n",
        "# 変数varが、3の倍数と5の倍数の両方に該当する場合は「FizzBuzz」を出力\n",
        "if var%3 == 0 and var%5 == 0:\n",
        "    print(\"FizzBuzz\")\n",
        "\n",
        "# 数varが、3の倍数の場合は「Fizz」を出力\n",
        "elif var%3 == 0:\n",
        "    print(\"Fizz\")\n",
        "\n",
        "# 数varが、5の倍数の場合は「Fizz」を出力\n",
        "elif var%5 == 0:\n",
        "    print(\"Buzz\")\n",
        "\n",
        "# どの場合にも該当しない場合は、変数varの値を出力\n",
        "else:\n",
        "    print(var)"
      ]
    }
  ]
}