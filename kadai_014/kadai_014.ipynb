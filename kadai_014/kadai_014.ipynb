{
  "nbformat": 4,
  "nbformat_minor": 0,
  "metadata": {
    "colab": {
      "provenance": []
    },
    "kernelspec": {
      "name": "python3",
      "display_name": "Python 3"
    },
    "language_info": {
      "name": "python"
    }
  },
  "cells": [
    {
      "cell_type": "code",
      "execution_count": 2,
      "metadata": {
        "colab": {
          "base_uri": "https://localhost:8080/"
        },
        "id": "XL14qCCQtV-X",
        "outputId": "5355edab-6dfb-4982-ebe8-b57dafcd9e7e"
      },
      "outputs": [
        {
          "output_type": "stream",
          "name": "stdout",
          "text": [
            "330.0\n"
          ]
        }
      ],
      "source": [
        "price1 = 100\n",
        "price2 = 200\n",
        "\n",
        "def total():\n",
        "    tax = 1.1\n",
        "    return (price1 + price2) * tax\n",
        "\n",
        "print (total())"
      ]
    }
  ]
}